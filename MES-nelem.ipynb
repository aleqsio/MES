{
 "cells": [
  {
   "cell_type": "code",
   "execution_count": 9,
   "metadata": {
    "collapsed": true
   },
   "outputs": [],
   "source": [
    "import numpy as np\n",
    "import matplotlib.pyplot as plt\n",
    "from ipywidgets import interact, interactive, fixed, interact_manual\n",
    "import ipywidgets as widgets\n",
    "import pandas as pd\n",
    "import pickle as rtl\n",
    "from mpl_toolkits.mplot3d import Axes3D\n",
    "%matplotlib inline\n",
    "#Լ=rtl.load( open( \"ldta\", \"rb\" ) )\n",
    "from operator import itemgetter"
   ]
  },
  {
   "cell_type": "markdown",
   "metadata": {},
   "source": [
    "# Metoda elementów skończonych dla n elementów\n",
    "\n",
    "1. generujemy odpowiednią ilość subelementów, sortujemy ich węzły, usuwamy duplikaty i przypisujemy do każdej funkcji lokalnej elementu jednoznacznie funkcję globalną"
   ]
  },
  {
   "cell_type": "code",
   "execution_count": 10,
   "metadata": {
    "collapsed": true
   },
   "outputs": [],
   "source": [
    "def generateElements(subdivisions):\n",
    "    print(\"subdivisions \"+str(subdivisions))\n",
    "    elements=[(x,y) for x in range(subdivisions+1) for y in range(subdivisions+1)]\n",
    "    elements+=[(x+(subdivisions+1),y) for x in range(subdivisions+1) for y in range(subdivisions+1)]\n",
    "    elements+=[(x+(subdivisions+1),y+(subdivisions+1)) for x in range(subdivisions+1) for y in range(subdivisions+1)]\n",
    "    \n",
    "    functions=[]\n",
    "    functions=[(x,y) for x in range(subdivisions+2) for y in range(subdivisions+2)]\n",
    "    functions+=[(x+(subdivisions+1),y) for x in range(subdivisions+2) for y in range(subdivisions+2)]\n",
    "    functions+=[(x+(subdivisions+1),y+(subdivisions+1)) for x in range(subdivisions+2) for y in range(subdivisions+2)]\n",
    "    \n",
    "    functions=list(set(functions))\n",
    "    functions.sort(key=itemgetter(1,0))\n",
    "    \n",
    "    newElements=[]\n",
    "    for element in elements:\n",
    "        elementFunctions=[]\n",
    "        for (xmove,ymove) in [(x,y) for y in range(2) for x in range(2)]:\n",
    "            elementFunctions.append(functions.index((xmove+element[0],ymove+element[1])))\n",
    "        newElements.append(((element[0]/(subdivisions+1),element[1]/(subdivisions+1)),elementFunctions))\n",
    "    print(\"functions\")\n",
    "    print(functions)\n",
    "    return (functions,newElements)\n",
    "    "
   ]
  },
  {
   "cell_type": "markdown",
   "metadata": {},
   "source": [
    ".2. Musimy obliczyć gradienty funkcji lokalnych"
   ]
  },
  {
   "cell_type": "code",
   "execution_count": 11,
   "metadata": {
    "collapsed": true
   },
   "outputs": [],
   "source": [
    "signsX = [1, 1,-1, -1]\n",
    "signsY = [1, -1, 1, -1]\n",
    "def getBilinearForm(location,dimension,pos):\n",
    "    return (1/4)*((dimension[1]/dimension[0])*signsX[pos[0]]*signsX[pos[1]]+\n",
    "                (dimension[0]/dimension[1])*signsY[pos[0]]*signsY[pos[1]])"
   ]
  },
  {
   "cell_type": "markdown",
   "metadata": {},
   "source": [
    ".3. Musimy obliczyć brzeg Neumanna. W pdf jest prawdopodobnie błąd, więc przyjmiemy Pi/4"
   ]
  },
  {
   "cell_type": "code",
   "execution_count": 12,
   "metadata": {
    "collapsed": true
   },
   "outputs": [],
   "source": [
    "def g(r, phi):\n",
    "    return r ** 2 * np.sin(phi + (np.pi / 4)) ** 2\n",
    "    \n",
    "def g_cart(x, y):\n",
    "    r, phi = polarFromCarth(x, x)\n",
    "    return g(r, phi)\n",
    "\n",
    "def polarFromCarth(x, y):\n",
    "    phi = np.arctan2(y, x)\n",
    "    r = np.sqrt(x ** 2 + y ** 2)\n",
    "    return r, phi"
   ]
  },
  {
   "cell_type": "code",
   "execution_count": 5,
   "metadata": {
    "collapsed": true
   },
   "outputs": [],
   "source": [
    "def getEdges(element):\n",
    "    coords = []\n",
    "    coords.append(element[0])\n",
    "    coords.append((element[0][0]+1,element[0][1]))\n",
    "    coords.append((element[0][0]+1,element[0][1]+1))\n",
    "    coords.append((element[0][0],element[0][1]+1))\n",
    "    return [(coords[i],coords[(i+1)%4]) for i in range(4)]\n",
    "def getMidAndNeuman(coords,dimensions,element,elements):\n",
    "    (c1,c2)=coords\n",
    "    mid=((c1[0]+c2[0])/2,(c1[1]+c2[1])/2)\n",
    "    return (mid,(mid[0]==0 or mid[0]==2 or mid[1]==0 or mid[1]==2))\n",
    "def getDirichlet(functions,dimensions):\n",
    "    funs=[]\n",
    "    for (i,fun) in enumerate(functions):\n",
    "        if(fun in [(0,1),(1,1),(1,2)]):\n",
    "              funs.append(i)\n",
    "    return funs\n",
    "def getElements(coords,elements,dimensions):\n",
    "    return next((x for x in elements if ((coords[0]>=x[0][0]) and (coords[0]<=(2/(dimensions[0])+x[0][0])) and ((coords[1]>=x[0][1])) and (coords[1]<=(2/(dimensions[1])+x[0][1])))), None)"
   ]
  },
  {
   "cell_type": "code",
   "execution_count": 6,
   "metadata": {
    "collapsed": true
   },
   "outputs": [],
   "source": [
    "\n",
    "def createAndSolve(elements,functions,dimensions):\n",
    "    size=len(functions)\n",
    "    B = np.zeros((size,size))\n",
    "    L = np.zeros((size,1))\n",
    "    for element in elements: # E\n",
    "        for (c1,c2) in getEdges(element):\n",
    "          #  print(\"elementEdges\")\n",
    "           # print(getEdges(element))\n",
    "            nemuan=getMidAndNeuman((c1,c2),dimensions,element,elements)\n",
    "            if(nemuan[1]):\n",
    "                b1,b2 = (element[0][0],element[0][1])\n",
    "                b1*=2/dimensions[0]\n",
    "                b2*=2/dimensions[1]\n",
    "                x = (nemuan[0][0])*2/dimensions[1]\n",
    "                y = (nemuan[0][1])*2/dimensions[1]\n",
    "                fn = element[1]\n",
    "                a=(2/dimensions[0])\n",
    "                L[fn[0]] += g_cart(x-1,y-1)*(1-(x-b1)/a)*(1-(y-b2)/a)\n",
    "                L[fn[1]] += g_cart(x-1,y-1)*(x-b1)*(1-(y-b2)/a)\n",
    "                L[fn[2]] += g_cart(x-1,y-1)*(x-b1)*(y-b2)/a\n",
    "                L[fn[3]] += g_cart(x-1,y-1)*(1-(x-b1)/a)*(y-b2)/a\n",
    "                \n",
    "    for element in elements: # E\n",
    "        for i in (0,1,2,3): # phi_i\n",
    "            i1 = element[1][i]  \n",
    "           # print(ii)\n",
    "            for j in (0,1,2,3): # phi_j\n",
    "                j1 = element[1][j]    \n",
    "             #   print((1/4) * ( sx[i]*sx[j] + sy[i]*sy[j] ))\n",
    "             #   print( #dimensions\n",
    "                \n",
    "                B[i1, j1] += getBilinearForm(element[0],dimensions,(i,j))\n",
    "              #  print((i,j))\n",
    "             #   B[ii, jj] += getBilinearForm(element[0],dimensions,(i,j))\n",
    "              #  print((ii, jj))\n",
    "    for f in getDirichlet(functions,dimensions):\n",
    "        B[f,:]=0\n",
    "        B[f,f]=1\n",
    "        L[f]=0\n",
    "    return np.linalg.solve(B,L)"
   ]
  },
  {
   "cell_type": "code",
   "execution_count": 7,
   "metadata": {
    "scrolled": false
   },
   "outputs": [
    {
     "data": {
      "application/vnd.jupyter.widget-view+json": {
       "model_id": "a607a0f6b445476497c20070dfa47bb7",
       "version_major": 2,
       "version_minor": 0
      },
      "text/plain": [
       "A Jupyter Widget"
      ]
     },
     "metadata": {},
     "output_type": "display_data"
    }
   ],
   "source": [
    "@interact(subdivisions=(0,6))\n",
    "def generatePlot(subdivisions):\n",
    "    \n",
    "    (functions,elements)=generateElements(subdivisions)\n",
    " #   print(pd.DataFrame(elements,columns=[\"xy\",\"base functions\"]))\n",
    "    \n",
    "  #  print(\"functions: \"+str(functions))\n",
    "    \n",
    "    dimensions = ((subdivisions+1)*2,(subdivisions+1)*2)\n",
    "   # print(\"dimensions: \"+str(dimensions))\n",
    "    \n",
    "    a = createAndSolve(elements,functions,dimensions)\n",
    "  #  print(a)\n",
    "    \n",
    "    probe(a,elements,functions,20,dimensions)\n"
   ]
  },
  {
   "cell_type": "code",
   "execution_count": 8,
   "metadata": {
    "collapsed": true
   },
   "outputs": [],
   "source": [
    "def probe(a,elements,functions,n,dimensions):\n",
    "    xprobe = np.linspace(0,2,n)\n",
    "    yprobe = np.linspace(0,2,n)\n",
    "    Z = np.zeros((len(xprobe),len(yprobe)))\n",
    "    for (i,x) in enumerate(xprobe):\n",
    "        for (j,y) in enumerate(yprobe):\n",
    "           \n",
    "            element=getElements((x,y),elements,dimensions)\n",
    "          #  print(element)\n",
    "            if(not element is None):\n",
    "                b1,b2 = element[0]\n",
    "                cx = (x - b1) \n",
    "                cy = (y - b2) \n",
    "                \n",
    "                Z[i,j] += a[element[1][0]]*(1-cx)*(1-cy) \n",
    "                Z[i,j] += a[element[1][1]]*(cx)*(1-cy)   \n",
    "                Z[i,j] += a[element[1][2]]*(1-cx)*(cy)   \n",
    "                Z[i,j] += a[element[1][3]]*(cx)*(cy)                     \n",
    "                \n",
    "    fig = plt.figure(figsize=(15, 10))\n",
    "    ax = fig.gca(projection='3d')\n",
    "\n",
    "    X,Y = np.meshgrid(xprobe,yprobe)\n",
    "    ax.plot_surface(X,Y,Z, rstride=1, cstride=1, cmap=plt.get_cmap('ocean'))\n",
    "    ax.view_init(30, -110)\n",
    "\n",
    "    plt.show()"
   ]
  },
  {
   "cell_type": "code",
   "execution_count": null,
   "metadata": {
    "collapsed": true
   },
   "outputs": [],
   "source": []
  },
  {
   "cell_type": "code",
   "execution_count": null,
   "metadata": {
    "collapsed": true
   },
   "outputs": [],
   "source": []
  },
  {
   "cell_type": "code",
   "execution_count": null,
   "metadata": {
    "collapsed": true
   },
   "outputs": [],
   "source": []
  }
 ],
 "metadata": {
  "kernelspec": {
   "display_name": "Python 3",
   "language": "python",
   "name": "python3"
  },
  "language_info": {
   "codemirror_mode": {
    "name": "ipython",
    "version": 3
   },
   "file_extension": ".py",
   "mimetype": "text/x-python",
   "name": "python",
   "nbconvert_exporter": "python",
   "pygments_lexer": "ipython3",
   "version": "3.6.2"
  }
 },
 "nbformat": 4,
 "nbformat_minor": 2
}
