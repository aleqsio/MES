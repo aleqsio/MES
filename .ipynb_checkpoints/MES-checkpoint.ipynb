{
 "cells": [
  {
   "cell_type": "code",
   "execution_count": 290,
   "metadata": {},
   "outputs": [
    {
     "ename": "IndentationError",
     "evalue": "unexpected indent (<ipython-input-290-5182b3df1dd0>, line 2)",
     "output_type": "error",
     "traceback": [
      "\u001b[1;36m  File \u001b[1;32m\"<ipython-input-290-5182b3df1dd0>\"\u001b[1;36m, line \u001b[1;32m2\u001b[0m\n\u001b[1;33m    Lp=pickle.load( open( \"lfile\", \"rb\" ) )\u001b[0m\n\u001b[1;37m    ^\u001b[0m\n\u001b[1;31mIndentationError\u001b[0m\u001b[1;31m:\u001b[0m unexpected indent\n"
     ]
    }
   ],
   "source": [
    "import numpy as np\n",
    "Lp=pickle.load( open( \"lfile\", \"rb\" ) )\n",
    "import matplotlib.pyplot as plt\n",
    "from ipywidgets import interact, interactive, fixed, interact_manual\n",
    "import ipywidgets as widgets\n",
    "import pandas as pd\n",
    "%matplotlib inline\n",
    "from mpl_toolkits.mplot3d import Axes3D\n",
    "from operator import itemgetter\n",
    "import pickle"
   ]
  },
  {
   "cell_type": "markdown",
   "metadata": {},
   "source": [
    "# Metoda elementów skończonych dla n elementów\n",
    "\n",
    "1. generujemy odpowiednią ilość subelementów, sortujemy ich węzły, usuwamy duplikaty i przypisujemy do każdej funkcji lokalnej elementu jednoznacznie funkcję globalną"
   ]
  },
  {
   "cell_type": "code",
   "execution_count": 205,
   "metadata": {},
   "outputs": [],
   "source": [
    "def generateElements(subdivisions):\n",
    "    print(\"subdivisions \"+str(subdivisions))\n",
    "    elements=[(x,y) for x in range(subdivisions+1) for y in range(subdivisions+1)]\n",
    "    elements+=[(x+(subdivisions+1),y) for x in range(subdivisions+1) for y in range(subdivisions+1)]\n",
    "    elements+=[(x+(subdivisions+1),y+(subdivisions+1)) for x in range(subdivisions+1) for y in range(subdivisions+1)]\n",
    "    \n",
    "    functions=[]\n",
    "    functions=[(x,y) for x in range(subdivisions+2) for y in range(subdivisions+2)]\n",
    "    functions+=[(x+(subdivisions+1),y) for x in range(subdivisions+2) for y in range(subdivisions+2)]\n",
    "    functions+=[(x+(subdivisions+1),y+(subdivisions+1)) for x in range(subdivisions+2) for y in range(subdivisions+2)]\n",
    "    \n",
    "    functions=list(set(functions))\n",
    "    functions.sort(key=itemgetter(1,0))\n",
    "    \n",
    "    newElements=[]\n",
    "    for element in elements:\n",
    "        elementFunctions=[]\n",
    "        for (xmove,ymove) in [(x,y) for y in range(2) for x in range(2)]:\n",
    "            elementFunctions.append(functions.index((xmove+element[0],ymove+element[1])))\n",
    "         #   np.random.shuffle(elementFunctions)\n",
    "        newElements.append(((element[0]/(subdivisions+1),element[1]/(subdivisions+1)),elementFunctions))\n",
    "    print(\"functions\")\n",
    "    print(elements)\n",
    "    return (functions,newElements)\n",
    "    "
   ]
  },
  {
   "cell_type": "markdown",
   "metadata": {},
   "source": [
    ".2. Musimy obliczyć gradienty funkcji lokalnych"
   ]
  },
  {
   "cell_type": "code",
   "execution_count": 206,
   "metadata": {
    "collapsed": true
   },
   "outputs": [],
   "source": [
    "signsX = [1, 1,-1, -1]\n",
    "signsY = [1, -1, 1, -1]\n",
    "def getBilinearForm(location,dimension,pos):\n",
    "    return (1/4)*((dimension[1]/dimension[0])*sx[pos[0]]*signsX[pos[1]]+\n",
    "                (dimension[0]/dimension[1])*sy[pos[0]]*signsY[pos[1]])"
   ]
  },
  {
   "cell_type": "markdown",
   "metadata": {},
   "source": [
    ".3. Musimy obliczyć brzeg Neumanna. W pdf jest prawdopodobnie błąd, więc przyjmiemy Pi/4"
   ]
  },
  {
   "cell_type": "code",
   "execution_count": 320,
   "metadata": {},
   "outputs": [],
   "source": [
    "def g(r, phi):\n",
    "    return r ** 2 * np.sin(phi + (np.pi / 4)) ** 2\n",
    "    \n",
    "def g_cart(x, y):\n",
    "    r, phi = polarFromCarth(x, x)\n",
    "    return g(r, phi)\n",
    "\n",
    "def polarFromCarth(x, y):\n",
    "    phi = np.arctan2(y, x)\n",
    "    r = np.sqrt(x ** 2 + y ** 2)\n",
    "    return r, phi"
   ]
  },
  {
   "cell_type": "code",
   "execution_count": 326,
   "metadata": {},
   "outputs": [],
   "source": [
    "def getEdges(element):\n",
    "    coords = []\n",
    "    coords.append(element[0])\n",
    "    coords.append((element[0][0]+1,element[0][1]))\n",
    "    coords.append((element[0][0]+1,element[0][1]+1))\n",
    "    coords.append((element[0][0],element[0][1]+1))\n",
    "    return [(coords[i],coords[(i+1)%4]) for i in range(4)]\n",
    "def getMidAndNeuman(coords,dimensions,element,elements):\n",
    "    (c1,c2)=coords\n",
    "  #  print(c1,c2)\n",
    " #   nodes=((element[1][c1[0]],(element[1][c1[1]])),((element[1][c2[0]],(element[1][c2[1]]))))\n",
    "    mid=((c1[0]+c2[0])/2,(c1[1]+c2[1])/2)\n",
    "   #    print(mid)\n",
    "    return (mid,(mid[0]==0 or mid[0]==2 or mid[1]==0 or mid[1]==2))\n",
    "def getDirichlet(functions)\n",
    "def getElements(coords,elements,dimensions):\n",
    "    return next((x for x in elements if ((coords[0]>=x[0][0]) and (coords[0]<=(2/(dimensions[0])+x[0][0])) and ((coords[1]>=x[0][1])) and (coords[1]<=(2/(dimensions[1])+x[0][1])))), None)"
   ]
  },
  {
   "cell_type": "code",
   "execution_count": 333,
   "metadata": {},
   "outputs": [],
   "source": [
    "\n",
    "def createAndSolve(elements,functions,dimensions):\n",
    "    size=len(functions)\n",
    "    # Matrices\n",
    "    B = np.zeros((size,size))\n",
    "    L = np.zeros((size,1))\n",
    "    k=[0,1,2,3]\n",
    "   # np.random.shuffle(k)\n",
    "    print(k)\n",
    "    # Fill L\n",
    "    for element in elements: # E\n",
    "        for (c1,c2) in getEdges(element):\n",
    "          #  print(\"elementEdges\")\n",
    "           # print(getEdges(element))\n",
    "            nemuan=getMidAndNeuman((c1,c2),dimensions,element,elements)\n",
    "            if(nemuan[1]):\n",
    "                b1,b2 = (element[0][0]/dimensions[0]*2,element[0][1]*2/dimensions[0])\n",
    "             #   print(\"bb\")\n",
    "              #  print((b1,b2))\n",
    "               # k=elements.index(element)\n",
    "                x = (nemuan[0][0])-1\n",
    "                y = (nemuan[0][1])-1\n",
    "                    # add each shape function\n",
    "             #   print(\"mapping\")\n",
    "                fn = element[1]\n",
    "                print(fn[k[0]])\n",
    "                L[fn[k[0]]] += g_cart(x,y)*(1-x+b1)*(1-y+b2)#/(2/dimensions[0])**2 #phi0\n",
    "                L[fn[k[1]]] += g_cart(x,y)*(x-b1)*(1-y+b2)#/(2/dimensions[0])**2   #phi1\n",
    "                L[fn[k[2]]] += g_cart(x,y)*(1-x+b1)*(y-b2)#/(2/dimensions[0])**2    #phi2\n",
    "                L[fn[k[3]]] += g_cart(x,y)*(x-b1)*(y-b2)#/(2/dimensions[0])**2   #phi3\n",
    "    # Fill B\n",
    "    for element in elements: # E\n",
    "        for i in (0,1,2,3): # phi_i\n",
    "            ii = element[1][i]  \n",
    "           # print(ii)\n",
    "            for j in (0,1,2,3): # phi_j\n",
    "                jj = element[1][j]    \n",
    "             #   print((1/4) * ( sx[i]*sx[j] + sy[i]*sy[j] ))\n",
    "             #   print( #dimensions\n",
    "                \n",
    "                B[ii, jj] += getBilinearForm(element[0],dimensions,(i,j))\n",
    "              #  print((i,j))\n",
    "             #   B[ii, jj] += getBilinearForm(element[0],dimensions,(i,j))\n",
    "              #  print((ii, jj))\n",
    "    for e in dirichlet(elements):\n",
    "        B[e,:]=0\n",
    "        B[e,e]=1\n",
    "        L[e]=0\n",
    "        \n",
    "    \n",
    "    if(dimensions[0]==2):\n",
    "        print(L-Lp)\n",
    "        L=Lp\n",
    "  #  print(B)\n",
    "  #  print(L)\n",
    "    # Solve the system of equations\n",
    "    a = np.linalg.solve(B,L)\n",
    "    return a"
   ]
  },
  {
   "cell_type": "code",
   "execution_count": 334,
   "metadata": {
    "scrolled": false
   },
   "outputs": [
    {
     "data": {
      "application/vnd.jupyter.widget-view+json": {
       "model_id": "18c7f1a057e34030aac97fc76707a5d9",
       "version_major": 2,
       "version_minor": 0
      },
      "text/plain": [
       "A Jupyter Widget"
      ]
     },
     "metadata": {},
     "output_type": "display_data"
    }
   ],
   "source": [
    "def generatePlot(subdivisions):\n",
    "    \n",
    "    (functions,elements)=generateElements(subdivisions)\n",
    " #   print(pd.DataFrame(elements,columns=[\"xy\",\"base functions\"]))\n",
    "    \n",
    "  #  print(\"functions: \"+str(functions))\n",
    "    \n",
    "    dimensions = ((subdivisions+1)*2,(subdivisions+1)*2)\n",
    "   # print(\"dimensions: \"+str(dimensions))\n",
    "    \n",
    "    a = createAndSolve(elements,functions,dimensions)\n",
    "  #  print(a)\n",
    "    \n",
    "    probe(a,elements,functions,20,dimensions)\n",
    "interact_manual(generatePlot, subdivisions=widgets.IntSlider(min=0,max=30,step=1,value=0));"
   ]
  },
  {
   "cell_type": "code",
   "execution_count": 335,
   "metadata": {},
   "outputs": [],
   "source": [
    "def probe(a,elements,functions,n,dimensions):\n",
    "    # sample\n",
    "    xs = np.linspace(0,2,n)\n",
    "    ys = np.linspace(0,2,n)\n",
    "    # values\n",
    "    Z = np.zeros((len(xs),len(ys)))\n",
    "    k=[0,1,3,2]\n",
    "    #np.random.shuffle(k)\n",
    "    print(k)\n",
    "    for (i,x) in enumerate(xs):\n",
    "        for (j,y) in enumerate(ys):\n",
    "           \n",
    "            element=getElements((x,y),elements,dimensions)\n",
    "          #  print(element)\n",
    "            if(not element is None):\n",
    "                b1,b2 = element[0]\n",
    "                xval = (x - b1) #/a1\n",
    "                yval = (y - b2) #/a2\n",
    "                # add each shape function\n",
    "              #  print((b1,b2))\n",
    "                \n",
    "                Z[i,j] += a[element[1][k[0]]]*(1-xval)*(1-yval) #phi0\n",
    "                Z[i,j] += a[element[1][k[1]]]*(xval)*(1-yval)   #phi1\n",
    "                Z[i,j] += a[element[1][k[3]]]*(xval)*(yval)     #phi2\n",
    "                Z[i,j] += a[element[1][k[2]]]*(1-xval)*(yval)   #phi3\n",
    "                \n",
    "    fig = plt.figure(figsize=(15, 10))\n",
    "    ax = fig.gca(projection='3d')\n",
    "\n",
    "    X,Y = np.meshgrid(xs,ys)\n",
    "    ax.plot_surface(X,Y,Z, rstride=1, cstride=1, cmap=plt.get_cmap('ocean'))\n",
    "    ax.view_init(30, -110)\n",
    "\n",
    "    plt.show()"
   ]
  },
  {
   "cell_type": "code",
   "execution_count": null,
   "metadata": {
    "collapsed": true
   },
   "outputs": [],
   "source": []
  },
  {
   "cell_type": "code",
   "execution_count": null,
   "metadata": {
    "collapsed": true
   },
   "outputs": [],
   "source": []
  },
  {
   "cell_type": "code",
   "execution_count": null,
   "metadata": {
    "collapsed": true
   },
   "outputs": [],
   "source": []
  }
 ],
 "metadata": {
  "kernelspec": {
   "display_name": "Python 3",
   "language": "python",
   "name": "python3"
  },
  "language_info": {
   "codemirror_mode": {
    "name": "ipython",
    "version": 3
   },
   "file_extension": ".py",
   "mimetype": "text/x-python",
   "name": "python",
   "nbconvert_exporter": "python",
   "pygments_lexer": "ipython3",
   "version": "3.6.2"
  }
 },
 "nbformat": 4,
 "nbformat_minor": 2
}
